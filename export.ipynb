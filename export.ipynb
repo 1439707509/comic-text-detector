{
 "cells": [
  {
   "cell_type": "code",
   "execution_count": 2,
   "metadata": {},
   "outputs": [],
   "source": [
    "from export import *"
   ]
  },
  {
   "cell_type": "code",
   "execution_count": 5,
   "metadata": {},
   "outputs": [],
   "source": [
    "concate_models('data/yolov5sblk.ckpt', 'data/unet_best.ckpt', 'data/db_best.ckpt', 'data/textdetector.pt')"
   ]
  },
  {
   "cell_type": "code",
   "execution_count": 2,
   "metadata": {},
   "outputs": [
    {
     "name": "stderr",
     "output_type": "stream",
     "text": [
      "d:\\neonbub\\comic-text-detector\\models\\common.py:303: TracerWarning: Converting a tensor to a Python boolean might cause the trace to be incorrect. We can't record the data flow of Python values, so this value will be treated as a constant in the future. This means that the trace might not generalize to other inputs!\n",
      "  if self.onnx_dynamic or self.grid[i].shape[2:4] != x[i].shape[2:4]:\n"
     ]
    }
   ],
   "source": [
    "batch_size, imgsz = 1, 1024\n",
    "cuda = torch.cuda.is_available()\n",
    "# device = 'cuda' if cuda else 'cpu'\n",
    "device = 'cpu'\n",
    "im = torch.zeros(batch_size, 3, imgsz, imgsz).to(device)\n",
    "model_path = r'data/textdetector.pt'\n",
    "model = TextDetBase(model_path, device=device).to(device)\n",
    "export_onnx(model, im, model_path, 11)"
   ]
  }
 ],
 "metadata": {
  "interpreter": {
   "hash": "545b34d9a5e72e2b90b819a16ec22002dd3dc9d66aaf1029c3177c6408a5603b"
  },
  "kernelspec": {
   "display_name": "Python 3.9.7 64-bit",
   "language": "python",
   "name": "python3"
  },
  "language_info": {
   "codemirror_mode": {
    "name": "ipython",
    "version": 3
   },
   "file_extension": ".py",
   "mimetype": "text/x-python",
   "name": "python",
   "nbconvert_exporter": "python",
   "pygments_lexer": "ipython3",
   "version": "3.9.7"
  },
  "orig_nbformat": 4
 },
 "nbformat": 4,
 "nbformat_minor": 2
}
